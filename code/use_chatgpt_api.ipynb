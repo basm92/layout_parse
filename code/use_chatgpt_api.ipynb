{
 "cells": [
  {
   "cell_type": "code",
   "execution_count": 13,
   "id": "2cd9369d",
   "metadata": {},
   "outputs": [],
   "source": [
    "from openai import OpenAI\n",
    "import pandas as pd\n",
    "\n",
    "with open('../api_key.txt', 'r') as file:\n",
    "            key = file.read().strip()\n",
    "\n",
    "client = OpenAI(\n",
    "    # defaults to os.environ.get(\"OPENAI_API_KEY\")\n",
    "    api_key=key,\n",
    ")"
   ]
  },
  {
   "cell_type": "code",
   "execution_count": 91,
   "id": "35225c68",
   "metadata": {},
   "outputs": [],
   "source": [
    "data = pd.read_csv(\"../data/1867_italy.csv\").drop('Unnamed: 0', axis=1)\n",
    "\n",
    "a_null_entry = data.iloc[314,:]\n",
    "an_almost_correct_entry = data.iloc[639, :] # Milau\n",
    "a_wrong_entry = data.iloc[60, :] # Should be: Lugo de Vicence, is: lamain\n",
    "a_second_wrong_entry = data.iloc[1572, :]\n",
    "\n",
    "entries = [a_null_entry, an_almost_correct_entry, a_wrong_entry, a_second_wrong_entry]"
   ]
  },
  {
   "cell_type": "code",
   "execution_count": 139,
   "id": "2d31b1f5",
   "metadata": {},
   "outputs": [],
   "source": [
    "def query_chatgpt(query):\n",
    "    chat_completion = client.chat.completions.create(\n",
    "    messages=[\n",
    "        {\n",
    "            \"role\": \"user\",\n",
    "            \"content\": query,\n",
    "        }\n",
    "    ],\n",
    "    model=\"gpt-3.5-turbo\",)\n",
    "    \n",
    "    return(chat_completion.choices[0].message.content)"
   ]
  },
  {
   "cell_type": "code",
   "execution_count": 140,
   "id": "2a62c657",
   "metadata": {},
   "outputs": [],
   "source": [
    "question = \"\"\"\n",
    "In the following string, which contains potential typos, I am looking for a city name.\n",
    "I know the city is located in Italy so please mention an Italian city. \n",
    "Give me the English or Italian name of the city, no other output:\"\n",
    "\"\"\"\n",
    "\n",
    "question_without_breaks = question.replace('\\n', '')"
   ]
  },
  {
   "cell_type": "code",
   "execution_count": 144,
   "id": "e93079be",
   "metadata": {},
   "outputs": [],
   "source": [
    "responses = []\n",
    "\n",
    "for i in data['text']:\n",
    "    query = question_without_breaks + \" \" + i\n",
    "    responses.append(query_chatgpt(query))\n"
   ]
  },
  {
   "cell_type": "code",
   "execution_count": 146,
   "id": "19a2c9f4",
   "metadata": {},
   "outputs": [],
   "source": [
    "data['respones'] = responses"
   ]
  },
  {
   "cell_type": "code",
   "execution_count": null,
   "id": "e6b0e24c",
   "metadata": {},
   "outputs": [],
   "source": [
    "question_italian = \"\"\"\n",
    "Nella seguente stringa, che contiene potenziali errori di battitura, sto cercando il nome di una città.\n",
    "So che la città si trova in Italia, quindi si prega di indicare una città italiana. \n",
    "Forniscimi il nome italiano della città, nessun altro output:\"\n",
    "\"\"\""
   ]
  },
  {
   "cell_type": "code",
   "execution_count": 148,
   "id": "34809fcb",
   "metadata": {},
   "outputs": [],
   "source": [
    "data.to_csv('../data/1867_italy_chatgpt.csv', index=False)"
   ]
  },
  {
   "cell_type": "code",
   "execution_count": null,
   "id": "b3bb6bb3",
   "metadata": {},
   "outputs": [],
   "source": []
  }
 ],
 "metadata": {
  "kernelspec": {
   "display_name": "Python 3 (ipykernel)",
   "language": "python",
   "name": "python3"
  },
  "language_info": {
   "codemirror_mode": {
    "name": "ipython",
    "version": 3
   },
   "file_extension": ".py",
   "mimetype": "text/x-python",
   "name": "python",
   "nbconvert_exporter": "python",
   "pygments_lexer": "ipython3",
   "version": "3.11.3"
  }
 },
 "nbformat": 4,
 "nbformat_minor": 5
}
