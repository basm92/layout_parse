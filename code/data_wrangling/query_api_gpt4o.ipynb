{
 "cells": [
  {
   "cell_type": "code",
   "execution_count": 5,
   "id": "55207ff9-65fd-449c-8dae-2d37985960ff",
   "metadata": {},
   "outputs": [],
   "source": [
    "from openai import OpenAI\n",
    "import base64\n",
    "import os\n",
    "import requests\n",
    "import pandas as pd\n",
    "import io\n",
    "api_key = os.getenv('OPENAI_API_KEY')\n",
    "client = OpenAI()"
   ]
  },
  {
   "cell_type": "markdown",
   "id": "396bfb7e-6f4e-481d-bd10-03b482b3be79",
   "metadata": {},
   "source": [
    "# An Example Page\n",
    "\n",
    "A demonstration of parsing of one page. "
   ]
  },
  {
   "cell_type": "code",
   "execution_count": 53,
   "id": "be2d16da-89de-4efa-967f-f7477bf4ea68",
   "metadata": {},
   "outputs": [],
   "source": [
    "# Function to encode the image\n",
    "def encode_image(image_path):\n",
    "  with open(image_path, \"rb\") as image_file:\n",
    "    return base64.b64encode(image_file.read()).decode('utf-8')\n",
    "\n",
    "# Path to your image\n",
    "image_path = \"../../data/primary_sources/Paris_1878_Italy_2.jpg\""
   ]
  },
  {
   "cell_type": "code",
   "execution_count": 54,
   "id": "054db499-787d-4a06-aa0b-3ed1b1dc1fa7",
   "metadata": {},
   "outputs": [],
   "source": [
    "# Getting the base64 string\n",
    "base64_image = encode_image(image_path)\n",
    "\n",
    "headers = {\n",
    "  \"Content-Type\": \"application/json\",\n",
    "  \"Authorization\": f\"Bearer {api_key}\"\n",
    "}"
   ]
  },
  {
   "cell_type": "code",
   "execution_count": 55,
   "id": "89b40609-6843-4b84-ba6b-5131fad1086e",
   "metadata": {},
   "outputs": [],
   "source": [
    "payload = {\n",
    "  \"model\": \"gpt-4o\",\n",
    "  \"messages\": [\n",
    "    {\n",
    "      \"role\": \"user\",\n",
    "      \"content\": [\n",
    "        {\n",
    "          \"type\": \"text\",\n",
    "          \"text\": \"Parse this image to .csv with \\t as a delimiter and the variables Number, Name, Place, Description.\"\n",
    "        },\n",
    "        {\n",
    "          \"type\": \"image_url\",\n",
    "          \"image_url\": {\n",
    "            \"url\": f\"data:image/jpeg;base64,{base64_image}\"\n",
    "          }\n",
    "        }\n",
    "      ]\n",
    "    }\n",
    "  ],\n",
    "  \"max_tokens\": 2500\n",
    "}"
   ]
  },
  {
   "cell_type": "code",
   "execution_count": 56,
   "id": "8dd4c517-d5d2-47d1-9b9b-35231986fc91",
   "metadata": {},
   "outputs": [
    {
     "name": "stdout",
     "output_type": "stream",
     "text": [
      "{'id': 'chatcmpl-9cAsb9BaWEzzqJK6DFPYrQ5sF0m8n', 'object': 'chat.completion', 'created': 1718885313, 'model': 'gpt-4o-2024-05-13', 'choices': [{'index': 0, 'message': {'role': 'assistant', 'content': 'Here is the parsed content in CSV format. The delimiter used is a tab (`\\\\t`).\\n\\n```csv\\nNumber\\tName\\tPlace\\tDescription\\n\\tPodesta (E.)\\tprofesseur, à Arezzo\\tTraité élementaire d\\'agriculture; premiers éléments d\\'agriculture pour les écoles élémentaires.\\n37\\tRosalba (C.)\\tarchitecte, à Avellino\\tProjet d\\'un édifice scolaire municipal constrait à Santa-Maria, Capua-Vetere.\\n42\\tSanti (A.)\\tà Murano (Venise)\\tRelations sur l\\'instruction et l\\'éducation dans la commune de Murano.\\n38\\tScaramuglia (T.)\\tprofesseur, à Gualdo-Tadino (Pérouse)\\tDessins à l\\'aquarelle par les élèves de l\\'école technique de Gualdo-Tadino (album).\\n33\\tSociété centrale ouvrière napolitaine\\tà Naples\\tDessins d\\'ornements, de figures, de géometrie, de machines (1 toile et 4 albums).\\n32\\tSoli (P.)\\tarchitecte, à Milan\\tProjets d\\'écoles élémentaires.\\n26\\tSotis (Dr J.)\\tà Fondi (Caserte)\\tConferences sur l\\'hygiène de l\\'habitant de la campagne et sur l\\'agriculture pratique.\\n44\\tThevenet (J.)\\tà Milan\\tCours complet d\\'écriture (5 modèles).\\n45\\tZanetti (Abbé V.)\\tdirecteur du Musée verrier et de l\\'école de dessin appliqué à la verrerie, à Murano (Venise)\\tPhotographies des meilleurs types classiques qui se trouvent dans le musée; gravures du musée de l\\'industie verrière et de l\\'école annexe.\\n34\\tZuchetti (A.)\\tprofesseur, à Todi (Pérouse)\\tDessins des élèves de l\\'école technique de Todi (album).\\n\\tAcadémie royale de Sainte-Cécile à Rome\\t-\\tConti: deux mélodrames.\\n\\tBaiardi\\t-\\tMorceaux de musique instrumentale.\\n34\\tBarbieri (L., architecte)\\tà Naples\\tProjet d\\'un collège de musique (album); projet d\\'une école à construire dans la province de Bari (album).\\n46\\tBeccari Gualberta (A.)\\tà Bologne\\tLa femme, publication périodique.\\n\\tBianchi\\tL\\'Enlède\\tOpéra-ballet en quatre actes.\\n3\\tBossi (L.)\\tprofesseur, à Milan\\tManuel théorique et pratique de tisage de la soie.\\n\\tBranzoli\\t-\\tCompositions.\\n\\tBruni\\tà Gênes\\tMéthode de chant.\\n17\\tCaputo (M.-C.)\\tprofesseur de chant, à Naples\\tManuel de chorodagogie.\\n48\\tCarelli (B.)\\tprofesseur de chant, à Naples\\tTraité de l\\'art musical.\\n49\\tCollège royal de musique à Palerme\\t(M. Platania, directeur)\\tCompositions musicales.\\n\\tDescoei (J.)\\tdirecteur de l\\'École royale de musique, à Parme\\tGrammaire musicale; méthode théorique pratique pour la lectures et la division musicales; méthode théorique pratique d\\'harmonie simple et composee, d\\'instrumentation, de contre-point de composition; symphonie à grand orchestre.\\n20\\tDe Castrone-Marchesi (M^me M.)\\tà Vienne\\tL\\'art du chant.\\n\\tDe Champs (H.)\\tà Florence\\tGuide théorique pratique pour l\\'interprétation et l\\'application des signes graphiques musicaux.\\n\\tDe Michelis\\t-\\tCompositions flûte et piano.\\n```\\n\\nNote: Some entries do not have a \"Number\" value and are left empty in the CSV.'}, 'logprobs': None, 'finish_reason': 'stop'}], 'usage': {'prompt_tokens': 1134, 'completion_tokens': 801, 'total_tokens': 1935}, 'system_fingerprint': 'fp_9cb5d38cf7'}\n"
     ]
    }
   ],
   "source": [
    "response = requests.post(\"https://api.openai.com/v1/chat/completions\", headers=headers, json=payload)\n",
    "\n",
    "print(response.json())"
   ]
  },
  {
   "cell_type": "code",
   "execution_count": 66,
   "id": "7db41323-604f-480d-bb5e-5524ab4cfdba",
   "metadata": {},
   "outputs": [],
   "source": [
    "csv_content = response.json()['choices'][0]['message']['content']\n",
    "\n",
    "# Remove markdown and extract CSV string\n",
    "csv_string = csv_content.split('```\\n')[1].split('```')[0]\n",
    "# Or:\n",
    "csv_string = csv_content.split('```csv\\n')[1].split('```')[0]"
   ]
  },
  {
   "cell_type": "code",
   "execution_count": 64,
   "id": "3479bc15-1bb6-44db-9580-1fb44449fede",
   "metadata": {},
   "outputs": [
    {
     "data": {
      "text/plain": [
       "\"Number\\tName\\tPlace\\tDescription\\n\\tPodesta (E.)\\tprofesseur, à Arezzo\\tTraité élementaire d'agriculture; premiers éléments d'agriculture pour les écoles élémentaires.\\n37\\tRosalba (C.)\\tarchitecte, à Avellino\\tProjet d'un édifice scolaire municipal constrait à Santa-Maria, Capua-Vetere.\\n42\\tSanti (A.)\\tà Murano (Venise)\\tRelations sur l'instruction et l'éducation dans la commune de Murano.\\n38\\tScaramuglia (T.)\\tprofesseur, à Gualdo-Tadino (Pérouse)\\tDessins à l'aquarelle par les élèves de l'école technique de Gualdo-Tadino (album).\\n33\\tSociété centrale ouvrière napolitaine\\tà Naples\\tDessins d'ornements, de figures, de géometrie, de machines (1 toile et 4 albums).\\n32\\tSoli (P.)\\tarchitecte, à Milan\\tProjets d'écoles élémentaires.\\n26\\tSotis (Dr J.)\\tà Fondi (Caserte)\\tConferences sur l'hygiène de l'habitant de la campagne et sur l'agriculture pratique.\\n44\\tThevenet (J.)\\tà Milan\\tCours complet d'écriture (5 modèles).\\n45\\tZanetti (Abbé V.)\\tdirecteur du Musée verrier et de l'école de dessin appliqué à la verrerie, à Murano (Venise)\\tPhotographies des meilleurs types classiques qui se trouvent dans le musée; gravures du musée de l'industie verrière et de l'école annexe.\\n34\\tZuchetti (A.)\\tprofesseur, à Todi (Pérouse)\\tDessins des élèves de l'école technique de Todi (album).\\n\\tAcadémie royale de Sainte-Cécile à Rome\\t-\\tConti: deux mélodrames.\\n\\tBaiardi\\t-\\tMorceaux de musique instrumentale.\\n34\\tBarbieri (L., architecte)\\tà Naples\\tProjet d'un collège de musique (album); projet d'une école à construire dans la province de Bari (album).\\n46\\tBeccari Gualberta (A.)\\tà Bologne\\tLa femme, publication périodique.\\n\\tBianchi\\tL'Enlède\\tOpéra-ballet en quatre actes.\\n3\\tBossi (L.)\\tprofesseur, à Milan\\tManuel théorique et pratique de tisage de la soie.\\n\\tBranzoli\\t-\\tCompositions.\\n\\tBruni\\tà Gênes\\tMéthode de chant.\\n17\\tCaputo (M.-C.)\\tprofesseur de chant, à Naples\\tManuel de chorodagogie.\\n48\\tCarelli (B.)\\tprofesseur de chant, à Naples\\tTraité de l'art musical.\\n49\\tCollège royal de musique à Palerme\\t(M. Platania, directeur)\\tCompositions musicales.\\n\\tDescoei (J.)\\tdirecteur de l'École royale de musique, à Parme\\tGrammaire musicale; méthode théorique pratique pour la lectures et la division musicales; méthode théorique pratique d'harmonie simple et composee, d'instrumentation, de contre-point de composition; symphonie à grand orchestre.\\n20\\tDe Castrone-Marchesi (M^me M.)\\tà Vienne\\tL'art du chant.\\n\\tDe Champs (H.)\\tà Florence\\tGuide théorique pratique pour l'interprétation et l'application des signes graphiques musicaux.\\n\\tDe Michelis\\t-\\tCompositions flûte et piano.\\n\""
      ]
     },
     "execution_count": 64,
     "metadata": {},
     "output_type": "execute_result"
    }
   ],
   "source": []
  },
  {
   "cell_type": "code",
   "execution_count": 67,
   "id": "18f98bdf-19ea-4630-be6c-982d991b19c3",
   "metadata": {},
   "outputs": [],
   "source": [
    "df = pd.read_csv(io.StringIO(csv_string), delimiter='\\t')"
   ]
  },
  {
   "cell_type": "code",
   "execution_count": 68,
   "id": "014d4444-2059-44ab-aa6e-30042bf48617",
   "metadata": {},
   "outputs": [],
   "source": [
    "df['Pdf'] = os.path.basename(image_path)"
   ]
  },
  {
   "cell_type": "markdown",
   "id": "f810b011-7c1f-4130-88b6-d7722248483f",
   "metadata": {},
   "source": [
    "# A function\n",
    "\n",
    "A function to loop through all files and export jsons of raw outputs and ready-made csv's per page. "
   ]
  },
  {
   "cell_type": "code",
   "execution_count": 71,
   "id": "bd855388-525f-4c55-90fe-e83e794e1688",
   "metadata": {},
   "outputs": [],
   "source": [
    "def chatgpt_csv(file_path):\n",
    "    # Encode the image\n",
    "    # Getting the base64 string\n",
    "    base64_image = encode_image(file_path)\n",
    "\n",
    "    headers = {\n",
    "      \"Content-Type\": \"application/json\",\n",
    "      \"Authorization\": f\"Bearer {api_key}\"\n",
    "    }\n",
    "    # Construct query to ChatGPT\n",
    "    payload = {\n",
    "        \"model\": \"gpt-4o\",\n",
    "        \"messages\": [\n",
    "            {\n",
    "                \"role\": \"user\",\n",
    "                \"content\": [\n",
    "                    {\n",
    "                        \"type\": \"text\",\n",
    "                        \"text\": \"Parse this image to .csv with \\t as a delimiter and the variables Number, Name, Place, Description.\"\n",
    "                    },\n",
    "                    {\n",
    "                        \"type\": \"image_url\",\n",
    "                        \"image_url\": {\n",
    "                            \"url\": f\"data:image/jpeg;base64,{base64_image}\"\n",
    "                        }\n",
    "                    }\n",
    "                ]\n",
    "            }\n",
    "        ],\n",
    "        \"max_tokens\": 2500\n",
    "    }\n",
    "    # Obtain response\n",
    "    response = requests.post(\"https://api.openai.com/v1/chat/completions\", headers=headers, json=payload)\n",
    "    # Obtain .csv content and parse\n",
    "    csv_content = response.json()['choices'][0]['message']['content']\n",
    "    # Remove markdown and extract CSV string\n",
    "    try:\n",
    "        csv_string = csv_content.split('```csv\\n')[1].split('```')[0]\n",
    "    except:\n",
    "        csv_string = csv_content.split('```\\n')[1].split('```')[0]\n",
    "    # Parse the csv in a df\n",
    "    df = pd.read_csv(io.StringIO(csv_string), delimiter='\\t')\n",
    "    # Add the filename\n",
    "    df['Pdf'] = os.path.basename(file_path)\n",
    "    # Export to directory\n",
    "    df.to_csv(\"../../data/gpt_ocr/\" + os.path.basename(file_path) + \".csv\", \n",
    "              sep=\"\\t\",\n",
    "              index=False)  \n",
    "    \n",
    "    \n",
    "    "
   ]
  },
  {
   "cell_type": "code",
   "execution_count": 72,
   "id": "330826d3-0b8a-4ec2-a567-81f0774c6dee",
   "metadata": {},
   "outputs": [],
   "source": [
    "chatgpt_csv(\"../../data/primary_sources/Paris_1878_Italy_3.jpg\")\n",
    "# Debug from Italy 3, Italy 3 doens't parse correctly yet"
   ]
  },
  {
   "cell_type": "code",
   "execution_count": null,
   "id": "68d4b495-7cd6-4640-9159-03b217b47198",
   "metadata": {},
   "outputs": [],
   "source": []
  }
 ],
 "metadata": {
  "kernelspec": {
   "display_name": "Python 3 (ipykernel)",
   "language": "python",
   "name": "python3"
  },
  "language_info": {
   "codemirror_mode": {
    "name": "ipython",
    "version": 3
   },
   "file_extension": ".py",
   "mimetype": "text/x-python",
   "name": "python",
   "nbconvert_exporter": "python",
   "pygments_lexer": "ipython3",
   "version": "3.11.7"
  }
 },
 "nbformat": 4,
 "nbformat_minor": 5
}
