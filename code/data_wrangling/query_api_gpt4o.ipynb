{
 "cells": [
  {
   "cell_type": "code",
   "execution_count": 10,
   "id": "55207ff9-65fd-449c-8dae-2d37985960ff",
   "metadata": {},
   "outputs": [],
   "source": [
    "from openai import OpenAI\n",
    "import base64\n",
    "import os\n",
    "import requests\n",
    "import pandas as pd\n",
    "import io\n",
    "api_key = os.getenv('OPENAI_API_KEY')\n",
    "client = OpenAI()"
   ]
  },
  {
   "cell_type": "markdown",
   "id": "396bfb7e-6f4e-481d-bd10-03b482b3be79",
   "metadata": {},
   "source": [
    "# An Example Page\n",
    "\n",
    "A demonstration of parsing of one page. "
   ]
  },
  {
   "cell_type": "code",
   "execution_count": 12,
   "id": "be2d16da-89de-4efa-967f-f7477bf4ea68",
   "metadata": {},
   "outputs": [],
   "source": [
    "# Function to encode the image\n",
    "def encode_image(image_path):\n",
    "  with open(image_path, \"rb\") as image_file:\n",
    "    return base64.b64encode(image_file.read()).decode('utf-8')\n",
    "\n",
    "# Path to your image\n",
    "image_path = \"../../data/primary_sources/Paris_1878_Italy_3.jpg\""
   ]
  },
  {
   "cell_type": "code",
   "execution_count": 13,
   "id": "054db499-787d-4a06-aa0b-3ed1b1dc1fa7",
   "metadata": {},
   "outputs": [],
   "source": [
    "# Getting the base64 string\n",
    "base64_image = encode_image(image_path)\n",
    "\n",
    "headers = {\n",
    "  \"Content-Type\": \"application/json\",\n",
    "  \"Authorization\": f\"Bearer {api_key}\"\n",
    "}"
   ]
  },
  {
   "cell_type": "code",
   "execution_count": 21,
   "id": "89b40609-6843-4b84-ba6b-5131fad1086e",
   "metadata": {},
   "outputs": [],
   "source": [
    "payload = {\n",
    "  \"model\": \"gpt-4o\",\n",
    "  \"messages\": [\n",
    "    {\n",
    "      \"role\": \"user\",\n",
    "      \"content\": [\n",
    "        {\n",
    "          \"type\": \"text\",\n",
    "          \"text\": \"Parse this image to .csv with \\t as a delimiter and the variables Name, Place, Description. Delimit the csv file by ```csv at the beginning and ``` at the end.\"\n",
    "        },\n",
    "        {\n",
    "          \"type\": \"image_url\",\n",
    "          \"image_url\": {\n",
    "            \"url\": f\"data:image/jpeg;base64,{base64_image}\"\n",
    "          }\n",
    "        }\n",
    "      ]\n",
    "    }\n",
    "  ],\n",
    "  \"max_tokens\": 2500\n",
    "}"
   ]
  },
  {
   "cell_type": "code",
   "execution_count": 22,
   "id": "8dd4c517-d5d2-47d1-9b9b-35231986fc91",
   "metadata": {},
   "outputs": [
    {
     "name": "stdout",
     "output_type": "stream",
     "text": [
      "{'id': 'chatcmpl-9hd9jxc6p2F1fFbwLMNpkICglLIpS', 'object': 'chat.completion', 'created': 1720185647, 'model': 'gpt-4o-2024-05-13', 'choices': [{'index': 0, 'message': {'role': 'assistant', 'content': \"```csv\\nName\\tPlace\\tDescription\\nDe Sanctis.\\t\\tComposition musicale.\\nFaa di Bruno (Chevalier F.)\\tTurin\\tPhasioscope, appareil pour expliquer la théorie des phases lunaires; appareil démonstratif du mouvement des nœuds et du périgée de la lune.\\nFerrari (M°)\\tBologne\\tMesse des morts.\\nFlorimo (Commandeur F.)\\tNaples\\tMéthode de chant.\\nFurno (J.)\\tNaples\\tExercices pratiques d'harmonie adoptés au Conservatoire royal de musique de Naples; cantates de Niccolo Porpora, avec accompagnement de piano à l'usage des écoles de chant dudit Collège.\\nGariboldi (Chevalier G. de Macerata)\\tParis\\tPetite école de la musique d'ensemble et d'accompagnement.\\nGarzia\\t\\tChef de musique, Fantaisies musicales.\\nGatti (D.)\\t\\tGrande méthode théorique pratique progressive pour trompette ou cornet en si bémol; l'école de perfectionnement, appendice.\\nGuercia (Chevalier A.)\\tNaples\\tMéthode de chant adoptée par le Collège royal.\\nKrakamp (Chevalier E.)\\tNaples\\tMéthode pour flûte cylindrique à la Boehm; méthode pour basson; méthode pour clarinette; méthode pour le solfège parlé collectif; méthode pour le solfège chanté si joué; cours complet de perfectionnement pour la flûte; vingt exercices caractéristiques pour clarinette.\\nLombardini (Chevalier J.)\\tNaples\\tCours complet de l'art du chant pour les voix de mezzo-soprano et de ténor.\\nMagniolini (J.)\\tFlorence\\tMéthode graduée et illustrée d'orgue; vingt chœurs en forme de prélude pour orgue.\\nMajer (J.)\\tUdine\\tÉtude du dessin géométrique ornemental et décoration polychrome; études d'ornementation à deux teintes, à l'usage des instituts techniques.\\nMancinelli.\\t\\tCompositions.\\nMinistère de l'instruction publique\\t\\tMatériel et illustrations de l'enseignement technique:\\n```\"}, 'logprobs': None, 'finish_reason': 'stop'}], 'usage': {'prompt_tokens': 1149, 'completion_tokens': 472, 'total_tokens': 1621}, 'system_fingerprint': 'fp_4008e3b719'}\n"
     ]
    }
   ],
   "source": [
    "response = requests.post(\"https://api.openai.com/v1/chat/completions\", headers=headers, json=payload)\n",
    "\n",
    "print(response.json())"
   ]
  },
  {
   "cell_type": "code",
   "execution_count": 23,
   "id": "7db41323-604f-480d-bb5e-5524ab4cfdba",
   "metadata": {},
   "outputs": [],
   "source": [
    "csv_content = response.json()['choices'][0]['message']['content']\n",
    "\n",
    "# Remove markdown and extract CSV string\n",
    "#csv_string = csv_content.split('```\\n')[1].split('```')[0]\n",
    "# Or:\n",
    "csv_string = csv_content.split('```csv\\n')[1].split('```')[0]"
   ]
  },
  {
   "cell_type": "code",
   "execution_count": 24,
   "id": "3479bc15-1bb6-44db-9580-1fb44449fede",
   "metadata": {},
   "outputs": [
    {
     "data": {
      "text/plain": [
       "\"Name\\tPlace\\tDescription\\nDe Sanctis.\\t\\tComposition musicale.\\nFaa di Bruno (Chevalier F.)\\tTurin\\tPhasioscope, appareil pour expliquer la théorie des phases lunaires; appareil démonstratif du mouvement des nœuds et du périgée de la lune.\\nFerrari (M°)\\tBologne\\tMesse des morts.\\nFlorimo (Commandeur F.)\\tNaples\\tMéthode de chant.\\nFurno (J.)\\tNaples\\tExercices pratiques d'harmonie adoptés au Conservatoire royal de musique de Naples; cantates de Niccolo Porpora, avec accompagnement de piano à l'usage des écoles de chant dudit Collège.\\nGariboldi (Chevalier G. de Macerata)\\tParis\\tPetite école de la musique d'ensemble et d'accompagnement.\\nGarzia\\t\\tChef de musique, Fantaisies musicales.\\nGatti (D.)\\t\\tGrande méthode théorique pratique progressive pour trompette ou cornet en si bémol; l'école de perfectionnement, appendice.\\nGuercia (Chevalier A.)\\tNaples\\tMéthode de chant adoptée par le Collège royal.\\nKrakamp (Chevalier E.)\\tNaples\\tMéthode pour flûte cylindrique à la Boehm; méthode pour basson; méthode pour clarinette; méthode pour le solfège parlé collectif; méthode pour le solfège chanté si joué; cours complet de perfectionnement pour la flûte; vingt exercices caractéristiques pour clarinette.\\nLombardini (Chevalier J.)\\tNaples\\tCours complet de l'art du chant pour les voix de mezzo-soprano et de ténor.\\nMagniolini (J.)\\tFlorence\\tMéthode graduée et illustrée d'orgue; vingt chœurs en forme de prélude pour orgue.\\nMajer (J.)\\tUdine\\tÉtude du dessin géométrique ornemental et décoration polychrome; études d'ornementation à deux teintes, à l'usage des instituts techniques.\\nMancinelli.\\t\\tCompositions.\\nMinistère de l'instruction publique\\t\\tMatériel et illustrations de l'enseignement technique:\\n\""
      ]
     },
     "execution_count": 24,
     "metadata": {},
     "output_type": "execute_result"
    }
   ],
   "source": [
    "csv_string"
   ]
  },
  {
   "cell_type": "code",
   "execution_count": 25,
   "id": "18f98bdf-19ea-4630-be6c-982d991b19c3",
   "metadata": {},
   "outputs": [],
   "source": [
    "df = pd.read_csv(io.StringIO(csv_string), delimiter='\\t')"
   ]
  },
  {
   "cell_type": "code",
   "execution_count": 26,
   "id": "014d4444-2059-44ab-aa6e-30042bf48617",
   "metadata": {},
   "outputs": [],
   "source": [
    "df['Pdf'] = os.path.basename(image_path)"
   ]
  },
  {
   "cell_type": "code",
   "execution_count": 29,
   "id": "47c06610-e06c-40bd-bfbb-5f2c23daea73",
   "metadata": {},
   "outputs": [],
   "source": [
    "df.to_csv(\"../../data/gpt_ocr/\" + os.path.basename(image_path) + \".csv\", \n",
    "              sep=\"\\t\",\n",
    "              index=False)  "
   ]
  },
  {
   "cell_type": "code",
   "execution_count": 30,
   "id": "d9a9b41b-93ac-4742-b2b6-4e8d31e26318",
   "metadata": {},
   "outputs": [
    {
     "data": {
      "text/html": [
       "<div>\n",
       "<style scoped>\n",
       "    .dataframe tbody tr th:only-of-type {\n",
       "        vertical-align: middle;\n",
       "    }\n",
       "\n",
       "    .dataframe tbody tr th {\n",
       "        vertical-align: top;\n",
       "    }\n",
       "\n",
       "    .dataframe thead th {\n",
       "        text-align: right;\n",
       "    }\n",
       "</style>\n",
       "<table border=\"1\" class=\"dataframe\">\n",
       "  <thead>\n",
       "    <tr style=\"text-align: right;\">\n",
       "      <th></th>\n",
       "      <th>Name</th>\n",
       "      <th>Place</th>\n",
       "      <th>Description</th>\n",
       "      <th>Pdf</th>\n",
       "    </tr>\n",
       "  </thead>\n",
       "  <tbody>\n",
       "    <tr>\n",
       "      <th>0</th>\n",
       "      <td>De Sanctis.</td>\n",
       "      <td>NaN</td>\n",
       "      <td>Composition musicale.</td>\n",
       "      <td>Paris_1878_Italy_3.jpg</td>\n",
       "    </tr>\n",
       "    <tr>\n",
       "      <th>1</th>\n",
       "      <td>Faa di Bruno (Chevalier F.)</td>\n",
       "      <td>Turin</td>\n",
       "      <td>Phasioscope, appareil pour expliquer la théori...</td>\n",
       "      <td>Paris_1878_Italy_3.jpg</td>\n",
       "    </tr>\n",
       "    <tr>\n",
       "      <th>2</th>\n",
       "      <td>Ferrari (M°)</td>\n",
       "      <td>Bologne</td>\n",
       "      <td>Messe des morts.</td>\n",
       "      <td>Paris_1878_Italy_3.jpg</td>\n",
       "    </tr>\n",
       "    <tr>\n",
       "      <th>3</th>\n",
       "      <td>Florimo (Commandeur F.)</td>\n",
       "      <td>Naples</td>\n",
       "      <td>Méthode de chant.</td>\n",
       "      <td>Paris_1878_Italy_3.jpg</td>\n",
       "    </tr>\n",
       "    <tr>\n",
       "      <th>4</th>\n",
       "      <td>Furno (J.)</td>\n",
       "      <td>Naples</td>\n",
       "      <td>Exercices pratiques d'harmonie adoptés au Cons...</td>\n",
       "      <td>Paris_1878_Italy_3.jpg</td>\n",
       "    </tr>\n",
       "    <tr>\n",
       "      <th>5</th>\n",
       "      <td>Gariboldi (Chevalier G. de Macerata)</td>\n",
       "      <td>Paris</td>\n",
       "      <td>Petite école de la musique d'ensemble et d'acc...</td>\n",
       "      <td>Paris_1878_Italy_3.jpg</td>\n",
       "    </tr>\n",
       "    <tr>\n",
       "      <th>6</th>\n",
       "      <td>Garzia</td>\n",
       "      <td>NaN</td>\n",
       "      <td>Chef de musique, Fantaisies musicales.</td>\n",
       "      <td>Paris_1878_Italy_3.jpg</td>\n",
       "    </tr>\n",
       "    <tr>\n",
       "      <th>7</th>\n",
       "      <td>Gatti (D.)</td>\n",
       "      <td>NaN</td>\n",
       "      <td>Grande méthode théorique pratique progressive ...</td>\n",
       "      <td>Paris_1878_Italy_3.jpg</td>\n",
       "    </tr>\n",
       "    <tr>\n",
       "      <th>8</th>\n",
       "      <td>Guercia (Chevalier A.)</td>\n",
       "      <td>Naples</td>\n",
       "      <td>Méthode de chant adoptée par le Collège royal.</td>\n",
       "      <td>Paris_1878_Italy_3.jpg</td>\n",
       "    </tr>\n",
       "    <tr>\n",
       "      <th>9</th>\n",
       "      <td>Krakamp (Chevalier E.)</td>\n",
       "      <td>Naples</td>\n",
       "      <td>Méthode pour flûte cylindrique à la Boehm; mét...</td>\n",
       "      <td>Paris_1878_Italy_3.jpg</td>\n",
       "    </tr>\n",
       "    <tr>\n",
       "      <th>10</th>\n",
       "      <td>Lombardini (Chevalier J.)</td>\n",
       "      <td>Naples</td>\n",
       "      <td>Cours complet de l'art du chant pour les voix ...</td>\n",
       "      <td>Paris_1878_Italy_3.jpg</td>\n",
       "    </tr>\n",
       "    <tr>\n",
       "      <th>11</th>\n",
       "      <td>Magniolini (J.)</td>\n",
       "      <td>Florence</td>\n",
       "      <td>Méthode graduée et illustrée d'orgue; vingt ch...</td>\n",
       "      <td>Paris_1878_Italy_3.jpg</td>\n",
       "    </tr>\n",
       "    <tr>\n",
       "      <th>12</th>\n",
       "      <td>Majer (J.)</td>\n",
       "      <td>Udine</td>\n",
       "      <td>Étude du dessin géométrique ornemental et déco...</td>\n",
       "      <td>Paris_1878_Italy_3.jpg</td>\n",
       "    </tr>\n",
       "    <tr>\n",
       "      <th>13</th>\n",
       "      <td>Mancinelli.</td>\n",
       "      <td>NaN</td>\n",
       "      <td>Compositions.</td>\n",
       "      <td>Paris_1878_Italy_3.jpg</td>\n",
       "    </tr>\n",
       "    <tr>\n",
       "      <th>14</th>\n",
       "      <td>Ministère de l'instruction publique</td>\n",
       "      <td>NaN</td>\n",
       "      <td>Matériel et illustrations de l'enseignement te...</td>\n",
       "      <td>Paris_1878_Italy_3.jpg</td>\n",
       "    </tr>\n",
       "  </tbody>\n",
       "</table>\n",
       "</div>"
      ],
      "text/plain": [
       "                                    Name     Place  \\\n",
       "0                            De Sanctis.       NaN   \n",
       "1            Faa di Bruno (Chevalier F.)     Turin   \n",
       "2                           Ferrari (M°)   Bologne   \n",
       "3                Florimo (Commandeur F.)    Naples   \n",
       "4                             Furno (J.)    Naples   \n",
       "5   Gariboldi (Chevalier G. de Macerata)     Paris   \n",
       "6                                 Garzia       NaN   \n",
       "7                             Gatti (D.)       NaN   \n",
       "8                 Guercia (Chevalier A.)    Naples   \n",
       "9                 Krakamp (Chevalier E.)    Naples   \n",
       "10             Lombardini (Chevalier J.)    Naples   \n",
       "11                       Magniolini (J.)  Florence   \n",
       "12                            Majer (J.)     Udine   \n",
       "13                           Mancinelli.       NaN   \n",
       "14   Ministère de l'instruction publique       NaN   \n",
       "\n",
       "                                          Description                     Pdf  \n",
       "0                               Composition musicale.  Paris_1878_Italy_3.jpg  \n",
       "1   Phasioscope, appareil pour expliquer la théori...  Paris_1878_Italy_3.jpg  \n",
       "2                                    Messe des morts.  Paris_1878_Italy_3.jpg  \n",
       "3                                   Méthode de chant.  Paris_1878_Italy_3.jpg  \n",
       "4   Exercices pratiques d'harmonie adoptés au Cons...  Paris_1878_Italy_3.jpg  \n",
       "5   Petite école de la musique d'ensemble et d'acc...  Paris_1878_Italy_3.jpg  \n",
       "6              Chef de musique, Fantaisies musicales.  Paris_1878_Italy_3.jpg  \n",
       "7   Grande méthode théorique pratique progressive ...  Paris_1878_Italy_3.jpg  \n",
       "8      Méthode de chant adoptée par le Collège royal.  Paris_1878_Italy_3.jpg  \n",
       "9   Méthode pour flûte cylindrique à la Boehm; mét...  Paris_1878_Italy_3.jpg  \n",
       "10  Cours complet de l'art du chant pour les voix ...  Paris_1878_Italy_3.jpg  \n",
       "11  Méthode graduée et illustrée d'orgue; vingt ch...  Paris_1878_Italy_3.jpg  \n",
       "12  Étude du dessin géométrique ornemental et déco...  Paris_1878_Italy_3.jpg  \n",
       "13                                      Compositions.  Paris_1878_Italy_3.jpg  \n",
       "14  Matériel et illustrations de l'enseignement te...  Paris_1878_Italy_3.jpg  "
      ]
     },
     "execution_count": 30,
     "metadata": {},
     "output_type": "execute_result"
    }
   ],
   "source": [
    "df"
   ]
  },
  {
   "cell_type": "markdown",
   "id": "f810b011-7c1f-4130-88b6-d7722248483f",
   "metadata": {},
   "source": [
    "# A function\n",
    "\n",
    "A function to loop through all files and export jsons of raw outputs and ready-made csv's per page. "
   ]
  },
  {
   "cell_type": "code",
   "execution_count": 31,
   "id": "bd855388-525f-4c55-90fe-e83e794e1688",
   "metadata": {},
   "outputs": [],
   "source": [
    "def chatgpt_csv(file_path):\n",
    "    # Encode the image\n",
    "    # Getting the base64 string\n",
    "    base64_image = encode_image(file_path)\n",
    "\n",
    "    headers = {\n",
    "      \"Content-Type\": \"application/json\",\n",
    "      \"Authorization\": f\"Bearer {api_key}\"\n",
    "    }\n",
    "    # Construct query to ChatGPT\n",
    "    payload = {\n",
    "        \"model\": \"gpt-4o\",\n",
    "        \"messages\": [\n",
    "            {\n",
    "                \"role\": \"user\",\n",
    "                \"content\": [\n",
    "                    {\n",
    "                        \"type\": \"text\",\n",
    "                        \"text\": \"Parse this image to .csv with \\t as a delimiter and the variables Name, Place, Description. Delimit the csv file by ```csv at the beginning and ``` at the end.\"\n",
    "        },\n",
    "                    {\n",
    "                        \"type\": \"image_url\",\n",
    "                        \"image_url\": {\n",
    "                            \"url\": f\"data:image/jpeg;base64,{base64_image}\"\n",
    "                        }\n",
    "                    }\n",
    "                ]\n",
    "    }\n",
    "        ],\n",
    "        \"max_tokens\": 2500\n",
    "    }\n",
    "    # Obtain response\n",
    "    response = requests.post(\"https://api.openai.com/v1/chat/completions\", headers=headers, json=payload)\n",
    "    # Obtain .csv content and parse\n",
    "    csv_content = response.json()['choices'][0]['message']['content']\n",
    "    # Remove markdown and extract CSV string\n",
    "    try:\n",
    "        csv_string = csv_content.split('```csv\\n')[1].split('```')[0]\n",
    "    except:\n",
    "        csv_string = csv_content.split('```\\n')[1].split('```')[0]\n",
    "    # Parse the csv in a df\n",
    "    df = pd.read_csv(io.StringIO(csv_string), delimiter='\\t')\n",
    "    # Add the filename\n",
    "    df['Pdf'] = os.path.basename(file_path)\n",
    "    # Export to directory\n",
    "    df.to_csv(\"../../data/gpt_ocr/\" + os.path.basename(file_path) + \".csv\", \n",
    "              sep=\"\\t\",\n",
    "              index=False)  \n",
    "    \n",
    "    \n",
    "    "
   ]
  },
  {
   "cell_type": "code",
   "execution_count": 32,
   "id": "330826d3-0b8a-4ec2-a567-81f0774c6dee",
   "metadata": {},
   "outputs": [],
   "source": [
    "chatgpt_csv(\"../../data/primary_sources/Paris_1878_Italy_4.jpg\")\n",
    "# Debug from Italy 3, Italy 3 doens't parse correctly yet"
   ]
  },
  {
   "cell_type": "code",
   "execution_count": null,
   "id": "68d4b495-7cd6-4640-9159-03b217b47198",
   "metadata": {},
   "outputs": [],
   "source": []
  }
 ],
 "metadata": {
  "kernelspec": {
   "display_name": "Python 3 (ipykernel)",
   "language": "python",
   "name": "python3"
  },
  "language_info": {
   "codemirror_mode": {
    "name": "ipython",
    "version": 3
   },
   "file_extension": ".py",
   "mimetype": "text/x-python",
   "name": "python",
   "nbconvert_exporter": "python",
   "pygments_lexer": "ipython3",
   "version": "3.11.7"
  }
 },
 "nbformat": 4,
 "nbformat_minor": 5
}
