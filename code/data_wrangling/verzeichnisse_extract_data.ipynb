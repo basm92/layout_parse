{
 "cells": [
  {
   "cell_type": "markdown",
   "metadata": {},
   "source": [
    "## verzeichnisse_extract_data.ipynb\n",
    "\n",
    "In this notebook, we will extract the text data enclosed in the Verzeichnisse. The data has been pre-OCR'ed, with the layout-ordered text present in the pdf. We will use an algorithm to extract this layout-specific text to order the data in rows and column. "
   ]
  },
  {
   "cell_type": "markdown",
   "metadata": {},
   "source": []
  },
  {
   "cell_type": "code",
   "execution_count": 16,
   "metadata": {},
   "outputs": [],
   "source": [
    "import pdfplumber\n",
    "import re\n",
    "# Function to extract text from a PDF file\n",
    "def extract_text_from_pdf(pdf_path):\n",
    "    # Open the PDF file\n",
    "    with pdfplumber.open(pdf_path) as pdf:\n",
    "        all_text = \"\"\n",
    "        \n",
    "        # Loop through all the pages in the PDF\n",
    "        for page in pdf.pages:\n",
    "            # Extract text from each page\n",
    "            text = page.extract_text()\n",
    "            if text:\n",
    "                all_text += text\n",
    "        \n",
    "    return all_text\n",
    "\n",
    "def split_text_by_pattern(text):\n",
    "    # Regex pattern to match a digit followed by a space\n",
    "    pattern = r'\\n\\d\\s'\n",
    "    \n",
    "    # Split the text using the regex pattern\n",
    "    split_list = re.split(pattern, text)\n",
    "    \n",
    "    return split_list\n"
   ]
  },
  {
   "cell_type": "code",
   "execution_count": 18,
   "metadata": {},
   "outputs": [
    {
     "data": {
      "text/plain": [
       "['A. Verliehene Privilegien .\\nFortlaufende Vor- und Zuname, Charakter Gegenstand Quaint Datum D da eu se r Ob die\\nGeheimhaltung\\nBahl und des Privild ee gr i ums- P gr ii uv mile s der Beschreis Anmerkung\\nbung angesucht\\nWohnort des Privilegirten Privilegiums Urkunde in\\nward oder nicht\\nJahren',\n",
       " 'Adensamer Joseph, lan Verbesserung an dem Bandwebestuhle unter der 12. October 5 geheim\\ndesbefugter Bandfabrikant Benennung Schnell - Gehvorrichtung , &quot; womit 1853\\nin Wien ( Schottenfeld) . in ein und derselben Zeit , bei gleichem Kraft\\nAufwande noch einmal so viel Waare wie bis\\nher erzeugt werden könne .',\n",
       " 'Adler Carl , Fabrikant Verbesserung in der Erzeugung von Ertrac 22. Februar 1 geheim\\nchemisch. Producte in Wien ten aus Knoppern , sowie aus allen gårbe 1853\\n( Gumpendorf Nr. 190) . und farbehältigen Stoffen , wodurch mittelst ver\\nbindender Anwendung hölzerner , eiserner und\\nkupferner Gefäße und Kessel durch offenes\\nFeuer oder Dampf diese Extracte mit einem\\nErsparnisse an Feuerungsmateriale und an\\nmiadar Arbeit billiger , schöner und intensiver herge\\nstellt werden sollen .',\n",
       " 'Alcan Michael , Civil -I n Erfindung und beziehungsweise Verbesserung 14. October 3 geheim Diese Erfin\\ngenieur, und Peter Hypolit einer Verfahrungsart bei der Zubereitung der 1853 dung und Ver\\nLimet in Paris ( Bevoll Seidenpuppen in der Seidenspinnerei beim besserung ist in\\nmächtigter Jacob Franz Abschweifen der rohen Seide und des groben Frankreich, v .\\nHeinrich Hemberger, Fries , sowie beim Rösten aller anderen spinn 14. Mai 1853\\nVerwaltungs- Director in baren Materien . an , auf 15\\nWien) . Tig Jahre patentirt.',\n",
       " 'Allan Thomas , Ingenieur Erfindung einer neuen Anwendungsart des elec 26. April 10 5 geheim\\nin Edinburg , durch sei trischen Stromes als Bewegungskraft . 1853\\nnen Bevollmächtigten Georg\\nMärkl, in Wien (J oseph\\nstadt Nr. 65 ) .ad Wo',\n",
       " 'Altlechner Laurenz , Bür Erfindung und Verbesserung an der Straßen 5. Juli 1 geheim\\nger in Wien (L aimgrube und Trottoirspflasterung . 1853\\nNr. 182) .\\nmiadar',\n",
       " 'Amstötter Mathias , und Erfindung einer Prefmaschine zur Erzeugung 15. April 1 geheim\\nJohann Schredl , in Wie von Dachs , Mauer , Pflasterziegeln und ar 1853\\nner Neustadt Nr . 172. chitectonischen Gegenständen . * In Frankreich ist\\ndieser Gegenstand\\nfeit 21. Sept. 1852',\n",
       " 'Anthon Ernst Friedrich , Erfindung , das Holz zu Eisenbahnschwellen, 22. Februar 1 geheim auf 15 Jahre pas\\ntechnisch . Chemiker in Prag, zur Grubenzimmerung u. f . w. , durch ein 1853 tentirt.\\nNr. 70 - IV . höchst einfaches und billiges Verfahren gegen\\nmistop Verwesung schüßen , und ihm eine vier- bis diesD esie P riA vu ils eü gb iuu mng s\\nsechsfache und selbst noch längere Dauer sichern ist unter der Bedin\\nint zu können. gung bewilliget, daß\\nKaC bei der Erzeugung\\nvon Gefäßen zur',\n",
       " 'Armengaud Jacob Eugen Verbesserung in der Anwendung des Kaut 25. März 3 geheim Bereitung und Auf\\nsen. , Civil Ingenieur in schuks und der Gutta Percha , abgesondert oder 1853 b Se pw eia sh er nu n ug\\nn d\\nGvo en\\ns\\nParis (R ue St. Sebastien zusammengesezt mit anderen Substanzen, zur tränken, und bei der\\nNr. 45) , durch Jacob Franz Erzeugung aller Arten von mehr oder min Anfertigung von\\nHeinrich Hemberger, der harten oder biegsamen und elastischen Ge Pferdegebiffen wes\\nVerwaltungs- Director in genständen. Ode rr y deS , in Sk a , l zed e of dfe en r\\nWien (S tadt Nr. 782 ) . Schwefel - Verbin\\ndungen, noch Blei ,\\nDessen Oryde , Salze\\noder Schwefelvers\\nbindungen , noch\\nauch schwefelsaure\\nMagnesia juges\\nseßt, und behufs\\nder etwaigen Fars\\nMbung dieser Ges\\n1044 D genstände feine der\\nGesundheit schäd\\nHO SCALATE lichen Substanzen\\nGLORY weder als Beimis\\nschung noch als Ans\\nstrich verwendet\\nwerden dürfen .']"
      ]
     },
     "execution_count": 18,
     "metadata": {},
     "output_type": "execute_result"
    }
   ],
   "source": [
    "# Specify the path to the PDF file\n",
    "pdf_file_path = '../../data/patent_data/raw_patent_data/Verzeichnisse/test.pdf'\n",
    "\n",
    "# Extract text from the PDF\n",
    "extracted_text = extract_text_from_pdf(pdf_file_path)\n",
    "\n",
    "# Output the extracted text\n",
    "split_text_by_pattern(extracted_text)"
   ]
  },
  {
   "cell_type": "code",
   "execution_count": null,
   "metadata": {},
   "outputs": [],
   "source": []
  }
 ],
 "metadata": {
  "kernelspec": {
   "display_name": "layout_parse",
   "language": "python",
   "name": "python3"
  },
  "language_info": {
   "codemirror_mode": {
    "name": "ipython",
    "version": 3
   },
   "file_extension": ".py",
   "mimetype": "text/x-python",
   "name": "python",
   "nbconvert_exporter": "python",
   "pygments_lexer": "ipython3",
   "version": "3.8.20"
  }
 },
 "nbformat": 4,
 "nbformat_minor": 2
}
