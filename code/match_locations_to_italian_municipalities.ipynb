{
 "cells": [
  {
   "cell_type": "code",
   "execution_count": 296,
   "id": "706b65ba",
   "metadata": {},
   "outputs": [],
   "source": [
    "import spacy\n",
    "import numpy as np\n",
    "import pandas as pd\n",
    "\n",
    "from scipy import spatial\n",
    "from langdetect import detect\n",
    "from sentence_transformers import SentenceTransformer"
   ]
  },
  {
   "cell_type": "code",
   "execution_count": 297,
   "id": "63636829",
   "metadata": {},
   "outputs": [
    {
     "name": "stderr",
     "output_type": "stream",
     "text": [
      "<ipython-input-297-e45e1bba6321>:6: SettingWithCopyWarning: \n",
      "A value is trying to be set on a copy of a slice from a DataFrame\n",
      "\n",
      "See the caveats in the documentation: https://pandas.pydata.org/pandas-docs/stable/user_guide/indexing.html#returning-a-view-versus-a-copy\n",
      "  municipality_names['LAU_NAME'][267] = 'None'\n"
     ]
    }
   ],
   "source": [
    "# Import data\n",
    "municipality_names = pd.read_csv('../data/list_of_municipalities_italy.csv', \n",
    "                                 delimiter=';',\n",
    "                                 dtype={'LAU_NAME':str})\n",
    "\n",
    "municipality_names['LAU_NAME'][267] = 'None'\n",
    "step3 = pd.read_table('../data/interim_matched_data.csv', \n",
    "                      delimiter=';',\n",
    "                      dtype={'LAU_ID':str,'lau_id_step2': str})\n",
    "\n"
   ]
  },
  {
   "cell_type": "code",
   "execution_count": 259,
   "id": "970f7ae7-660a-49bd-91f6-cb64da4efcb6",
   "metadata": {
    "scrolled": true
   },
   "outputs": [],
   "source": [
    "# Load embeddings\n",
    "nlp_fr = spacy.load('fr_core_news_lg')\n",
    "nlp_en = spacy.load('en_core_web_lg')\n",
    "nlp_it = spacy.load('it_core_news_lg')"
   ]
  },
  {
   "cell_type": "code",
   "execution_count": 298,
   "id": "6a008093-385b-4885-b5ae-716da31f2072",
   "metadata": {},
   "outputs": [
    {
     "data": {
      "application/vnd.jupyter.widget-view+json": {
       "model_id": "cf63d1b7063147568dbd9c6eb0c2fed2",
       "version_major": 2,
       "version_minor": 0
      },
      "text/plain": [
       ".gitattributes:   0%|          | 0.00/1.48k [00:00<?, ?B/s]"
      ]
     },
     "metadata": {},
     "output_type": "display_data"
    },
    {
     "data": {
      "application/vnd.jupyter.widget-view+json": {
       "model_id": "e21d82e154b042e8b4631c492cda7501",
       "version_major": 2,
       "version_minor": 0
      },
      "text/plain": [
       "1_Pooling/config.json:   0%|          | 0.00/190 [00:00<?, ?B/s]"
      ]
     },
     "metadata": {},
     "output_type": "display_data"
    },
    {
     "data": {
      "application/vnd.jupyter.widget-view+json": {
       "model_id": "00f970c36dab47c8aa99d0f0c2d2e2cf",
       "version_major": 2,
       "version_minor": 0
      },
      "text/plain": [
       "README.md:   0%|          | 0.00/4.15k [00:00<?, ?B/s]"
      ]
     },
     "metadata": {},
     "output_type": "display_data"
    },
    {
     "data": {
      "application/vnd.jupyter.widget-view+json": {
       "model_id": "541949aa205648fe80288d904873e4f6",
       "version_major": 2,
       "version_minor": 0
      },
      "text/plain": [
       "config.json:   0%|          | 0.00/641 [00:00<?, ?B/s]"
      ]
     },
     "metadata": {},
     "output_type": "display_data"
    },
    {
     "data": {
      "application/vnd.jupyter.widget-view+json": {
       "model_id": "f3e2673ade8a44869ad5ef41122d0d56",
       "version_major": 2,
       "version_minor": 0
      },
      "text/plain": [
       "config_sentence_transformers.json:   0%|          | 0.00/118 [00:00<?, ?B/s]"
      ]
     },
     "metadata": {},
     "output_type": "display_data"
    },
    {
     "data": {
      "application/vnd.jupyter.widget-view+json": {
       "model_id": "8255f490fdbd4bbea7bc82df273d49b7",
       "version_major": 2,
       "version_minor": 0
      },
      "text/plain": [
       "pytorch_model.bin:   0%|          | 0.00/443M [00:00<?, ?B/s]"
      ]
     },
     "metadata": {},
     "output_type": "display_data"
    },
    {
     "data": {
      "application/vnd.jupyter.widget-view+json": {
       "model_id": "d7669eca721e436192efbde79cfdeda6",
       "version_major": 2,
       "version_minor": 0
      },
      "text/plain": [
       "sentence_bert_config.json:   0%|          | 0.00/53.0 [00:00<?, ?B/s]"
      ]
     },
     "metadata": {},
     "output_type": "display_data"
    },
    {
     "data": {
      "application/vnd.jupyter.widget-view+json": {
       "model_id": "c55f0f402a4f439a8509f39e6aed3fcd",
       "version_major": 2,
       "version_minor": 0
      },
      "text/plain": [
       "special_tokens_map.json:   0%|          | 0.00/125 [00:00<?, ?B/s]"
      ]
     },
     "metadata": {},
     "output_type": "display_data"
    },
    {
     "data": {
      "application/vnd.jupyter.widget-view+json": {
       "model_id": "0e7ae3f1918c46898196ab406d3d4895",
       "version_major": 2,
       "version_minor": 0
      },
      "text/plain": [
       "tokenizer.json:   0%|          | 0.00/732k [00:00<?, ?B/s]"
      ]
     },
     "metadata": {},
     "output_type": "display_data"
    },
    {
     "data": {
      "application/vnd.jupyter.widget-view+json": {
       "model_id": "46a5848d89aa4dd08a52db0b316ef49b",
       "version_major": 2,
       "version_minor": 0
      },
      "text/plain": [
       "tokenizer_config.json:   0%|          | 0.00/436 [00:00<?, ?B/s]"
      ]
     },
     "metadata": {},
     "output_type": "display_data"
    },
    {
     "data": {
      "application/vnd.jupyter.widget-view+json": {
       "model_id": "0bf4cd2c1d2d44e4a6df5d09688814db",
       "version_major": 2,
       "version_minor": 0
      },
      "text/plain": [
       "vocab.txt:   0%|          | 0.00/243k [00:00<?, ?B/s]"
      ]
     },
     "metadata": {},
     "output_type": "display_data"
    },
    {
     "data": {
      "application/vnd.jupyter.widget-view+json": {
       "model_id": "ef535a2894ac451bb7a2ce004d3f368b",
       "version_major": 2,
       "version_minor": 0
      },
      "text/plain": [
       "modules.json:   0%|          | 0.00/229 [00:00<?, ?B/s]"
      ]
     },
     "metadata": {},
     "output_type": "display_data"
    }
   ],
   "source": [
    "model = SentenceTransformer('nickprock/sentence-bert-base-italian-xxl-uncased')"
   ]
  },
  {
   "cell_type": "code",
   "execution_count": 300,
   "id": "daff22c7-243d-4e38-8343-d0046eb87c50",
   "metadata": {},
   "outputs": [],
   "source": [
    "french_embedding = step3.apply(lambda x: model.encode(x['location']), axis=1)\n",
    "italian_embedding = municipality_names.apply(lambda x: model.encode(x['LAU_NAME']), axis=1)"
   ]
  },
  {
   "cell_type": "code",
   "execution_count": 302,
   "id": "aa8a1471-e3e4-4b7c-8f3d-dea37d3f49bf",
   "metadata": {},
   "outputs": [
    {
     "name": "stdout",
     "output_type": "stream",
     "text": [
      "8003\n",
      "(3324, 8003)\n"
     ]
    }
   ],
   "source": [
    "# Calculate the similarity between the entry in step3 and each of the municipalities\n",
    "##french_embedding = step3.apply(lambda x: nlp_it(x['location']).vector, axis=1)\n",
    "##italian_embedding = municipality_names.apply(lambda x: nlp_it(x['LAU_NAME']).vector, axis=1)\n",
    "distance = np.ones((french_embedding.shape[0], italian_embedding.shape[0])) + 10\n",
    "\n",
    "print(len(italian_embedding))\n",
    "print(distance.shape)"
   ]
  },
  {
   "cell_type": "code",
   "execution_count": 308,
   "id": "f6d88e0e-e4e1-4ad5-96f4-6f8152925989",
   "metadata": {},
   "outputs": [],
   "source": [
    "# Fill in the distance matrix\n",
    "for i in range(len(french_embedding)):\n",
    "    for j in range(len(italian_embedding)):\n",
    "        distance[i, j] = spatial.distance.cosine(french_embedding[i], italian_embedding[j])\n",
    "        "
   ]
  },
  {
   "cell_type": "code",
   "execution_count": 307,
   "id": "ec1069cf-e356-49bd-b8e9-25eb6ca1d2c4",
   "metadata": {
    "scrolled": true
   },
   "outputs": [
    {
     "data": {
      "text/plain": [
       "0.6299591958522797"
      ]
     },
     "execution_count": 307,
     "metadata": {},
     "output_type": "execute_result"
    }
   ],
   "source": [
    "# Find the minimum distance and which word that is\n",
    "spatial.distance.cosine(french_embedding[0], italian_embedding[298])\n",
    "\n",
    "#municipality_names.iloc[422]"
   ]
  },
  {
   "cell_type": "code",
   "execution_count": 309,
   "id": "0e9752d9-124a-476d-aae9-8e64fdd575d7",
   "metadata": {},
   "outputs": [],
   "source": [
    "# Compute the minimum value for each row\n",
    "min_values = np.min(distance, axis=1)\n",
    "# Compute the indices of the minimum values for each row\n",
    "min_indices = np.argmin(distance, axis=1)"
   ]
  },
  {
   "cell_type": "code",
   "execution_count": 310,
   "id": "57d018cf-ae88-4c31-9409-425297057cda",
   "metadata": {
    "scrolled": true
   },
   "outputs": [
    {
     "data": {
      "text/html": [
       "<div>\n",
       "<style scoped>\n",
       "    .dataframe tbody tr th:only-of-type {\n",
       "        vertical-align: middle;\n",
       "    }\n",
       "\n",
       "    .dataframe tbody tr th {\n",
       "        vertical-align: top;\n",
       "    }\n",
       "\n",
       "    .dataframe thead th {\n",
       "        text-align: right;\n",
       "    }\n",
       "</style>\n",
       "<table border=\"1\" class=\"dataframe\">\n",
       "  <thead>\n",
       "    <tr style=\"text-align: right;\">\n",
       "      <th></th>\n",
       "      <th>LAU_NAME</th>\n",
       "      <th>LAU_ID</th>\n",
       "    </tr>\n",
       "  </thead>\n",
       "  <tbody>\n",
       "    <tr>\n",
       "      <th>2489</th>\n",
       "      <td>Turi</td>\n",
       "      <td>72047</td>\n",
       "    </tr>\n",
       "    <tr>\n",
       "      <th>2489</th>\n",
       "      <td>Turi</td>\n",
       "      <td>72047</td>\n",
       "    </tr>\n",
       "    <tr>\n",
       "      <th>2489</th>\n",
       "      <td>Turi</td>\n",
       "      <td>72047</td>\n",
       "    </tr>\n",
       "    <tr>\n",
       "      <th>7815</th>\n",
       "      <td>Voghera</td>\n",
       "      <td>18182</td>\n",
       "    </tr>\n",
       "    <tr>\n",
       "      <th>5418</th>\n",
       "      <td>Calcio</td>\n",
       "      <td>16044</td>\n",
       "    </tr>\n",
       "    <tr>\n",
       "      <th>...</th>\n",
       "      <td>...</td>\n",
       "      <td>...</td>\n",
       "    </tr>\n",
       "    <tr>\n",
       "      <th>6161</th>\n",
       "      <td>Borgomale</td>\n",
       "      <td>4024</td>\n",
       "    </tr>\n",
       "    <tr>\n",
       "      <th>5902</th>\n",
       "      <td>Chiusaforte</td>\n",
       "      <td>30025</td>\n",
       "    </tr>\n",
       "    <tr>\n",
       "      <th>1054</th>\n",
       "      <td>Nicotera</td>\n",
       "      <td>102025</td>\n",
       "    </tr>\n",
       "    <tr>\n",
       "      <th>1054</th>\n",
       "      <td>Nicotera</td>\n",
       "      <td>102025</td>\n",
       "    </tr>\n",
       "    <tr>\n",
       "      <th>5275</th>\n",
       "      <td>Casalnuovo di Napoli</td>\n",
       "      <td>63017</td>\n",
       "    </tr>\n",
       "  </tbody>\n",
       "</table>\n",
       "<p>3324 rows × 2 columns</p>\n",
       "</div>"
      ],
      "text/plain": [
       "                  LAU_NAME  LAU_ID\n",
       "2489                  Turi   72047\n",
       "2489                  Turi   72047\n",
       "2489                  Turi   72047\n",
       "7815               Voghera   18182\n",
       "5418                Calcio   16044\n",
       "...                    ...     ...\n",
       "6161             Borgomale    4024\n",
       "5902           Chiusaforte   30025\n",
       "1054              Nicotera  102025\n",
       "1054              Nicotera  102025\n",
       "5275  Casalnuovo di Napoli   63017\n",
       "\n",
       "[3324 rows x 2 columns]"
      ]
     },
     "execution_count": 310,
     "metadata": {},
     "output_type": "execute_result"
    }
   ],
   "source": [
    "municipality_names.iloc[min_indices]"
   ]
  },
  {
   "cell_type": "code",
   "execution_count": 295,
   "id": "d1a08a44-3544-42e5-91de-0ac431b5ba82",
   "metadata": {},
   "outputs": [
    {
     "data": {
      "text/html": [
       "<div>\n",
       "<style scoped>\n",
       "    .dataframe tbody tr th:only-of-type {\n",
       "        vertical-align: middle;\n",
       "    }\n",
       "\n",
       "    .dataframe tbody tr th {\n",
       "        vertical-align: top;\n",
       "    }\n",
       "\n",
       "    .dataframe thead th {\n",
       "        text-align: right;\n",
       "    }\n",
       "</style>\n",
       "<table border=\"1\" class=\"dataframe\">\n",
       "  <thead>\n",
       "    <tr style=\"text-align: right;\">\n",
       "      <th></th>\n",
       "      <th>text</th>\n",
       "      <th>source</th>\n",
       "      <th>class</th>\n",
       "      <th>location</th>\n",
       "      <th>respones</th>\n",
       "      <th>LAU_ID</th>\n",
       "      <th>candidate_match_step2_1</th>\n",
       "      <th>candidate_match_step2_2</th>\n",
       "      <th>candidate_match_step2_3</th>\n",
       "      <th>candidate_match_step2_4</th>\n",
       "      <th>...</th>\n",
       "      <th>candidate_match_step2_7</th>\n",
       "      <th>candidate_match_step2_8</th>\n",
       "      <th>candidate_match_step2_9</th>\n",
       "      <th>candidate_match_step2_10</th>\n",
       "      <th>candidate_match_step2_11</th>\n",
       "      <th>candidate_match_step2_12</th>\n",
       "      <th>candidate_match_step2_13</th>\n",
       "      <th>candidate_match_step2_14</th>\n",
       "      <th>candidate_match_step2_15</th>\n",
       "      <th>lau_id_step2</th>\n",
       "    </tr>\n",
       "  </thead>\n",
       "  <tbody>\n",
       "    <tr>\n",
       "      <th>0</th>\n",
       "      <td>1. Dalmasso (Henry), imprimerieroyale, à Turin...</td>\n",
       "      <td>Paris1867_Italy_0.jpg</td>\n",
       "      <td>CLASSE 6..— PRUDLITS D'IMPRIMERIE\\nET DE LIBRA...</td>\n",
       "      <td>Turin</td>\n",
       "      <td>Turin</td>\n",
       "      <td>NaN</td>\n",
       "      <td>Turin</td>\n",
       "      <td>NaN</td>\n",
       "      <td>NaN</td>\n",
       "      <td>NaN</td>\n",
       "      <td>...</td>\n",
       "      <td>NaN</td>\n",
       "      <td>NaN</td>\n",
       "      <td>NaN</td>\n",
       "      <td>NaN</td>\n",
       "      <td>NaN</td>\n",
       "      <td>NaN</td>\n",
       "      <td>NaN</td>\n",
       "      <td>NaN</td>\n",
       "      <td>NaN</td>\n",
       "      <td>NaN</td>\n",
       "    </tr>\n",
       "    <tr>\n",
       "      <th>1</th>\n",
       "      <td>2. Negro (AugusteFréderic), à Turin. — Ouvrage...</td>\n",
       "      <td>Paris1867_Italy_0.jpg</td>\n",
       "      <td>CLASSE 6..— PRUDLITS D'IMPRIMERIE\\nET DE LIBRA...</td>\n",
       "      <td>Turin</td>\n",
       "      <td>The Italian city mentioned in the given string...</td>\n",
       "      <td>001272</td>\n",
       "      <td>Torino</td>\n",
       "      <td>NaN</td>\n",
       "      <td>NaN</td>\n",
       "      <td>NaN</td>\n",
       "      <td>...</td>\n",
       "      <td>NaN</td>\n",
       "      <td>NaN</td>\n",
       "      <td>NaN</td>\n",
       "      <td>NaN</td>\n",
       "      <td>NaN</td>\n",
       "      <td>NaN</td>\n",
       "      <td>NaN</td>\n",
       "      <td>NaN</td>\n",
       "      <td>NaN</td>\n",
       "      <td>001272</td>\n",
       "    </tr>\n",
       "    <tr>\n",
       "      <th>2</th>\n",
       "      <td>3. Pomba (Louis), à Turin.—Publications de la ...</td>\n",
       "      <td>Paris1867_Italy_0.jpg</td>\n",
       "      <td>CLASSE 6..— PRUDLITS D'IMPRIMERIE\\nET DE LIBRA...</td>\n",
       "      <td>Turin</td>\n",
       "      <td>Turin (or Torino in Italian) is the city menti...</td>\n",
       "      <td>001272</td>\n",
       "      <td>Torino</td>\n",
       "      <td>NaN</td>\n",
       "      <td>NaN</td>\n",
       "      <td>NaN</td>\n",
       "      <td>...</td>\n",
       "      <td>NaN</td>\n",
       "      <td>NaN</td>\n",
       "      <td>NaN</td>\n",
       "      <td>NaN</td>\n",
       "      <td>NaN</td>\n",
       "      <td>NaN</td>\n",
       "      <td>NaN</td>\n",
       "      <td>NaN</td>\n",
       "      <td>NaN</td>\n",
       "      <td>001272</td>\n",
       "    </tr>\n",
       "    <tr>\n",
       "      <th>3</th>\n",
       "      <td>4. Gatti (Joseph), à Voghera. —Spécimens de ty...</td>\n",
       "      <td>Paris1867_Italy_0.jpg</td>\n",
       "      <td>CLASSE 6..— PRUDLITS D'IMPRIMERIE\\nET DE LIBRA...</td>\n",
       "      <td>Voghera</td>\n",
       "      <td>The Italian city mentioned in the given string...</td>\n",
       "      <td>018182</td>\n",
       "      <td>Voghera</td>\n",
       "      <td>NaN</td>\n",
       "      <td>NaN</td>\n",
       "      <td>NaN</td>\n",
       "      <td>...</td>\n",
       "      <td>NaN</td>\n",
       "      <td>NaN</td>\n",
       "      <td>NaN</td>\n",
       "      <td>NaN</td>\n",
       "      <td>NaN</td>\n",
       "      <td>NaN</td>\n",
       "      <td>NaN</td>\n",
       "      <td>NaN</td>\n",
       "      <td>NaN</td>\n",
       "      <td>018182</td>\n",
       "    </tr>\n",
       "    <tr>\n",
       "      <th>4</th>\n",
       "      <td>5. Bernardoni (CièreJoseph , àMilan. — Evangel...</td>\n",
       "      <td>Paris1867_Italy_0.jpg</td>\n",
       "      <td>CLASSE 6..— PRUDLITS D'IMPRIMERIE\\nET DE LIBRA...</td>\n",
       "      <td>Milan</td>\n",
       "      <td>Milan</td>\n",
       "      <td>NaN</td>\n",
       "      <td>Milan</td>\n",
       "      <td>NaN</td>\n",
       "      <td>NaN</td>\n",
       "      <td>NaN</td>\n",
       "      <td>...</td>\n",
       "      <td>NaN</td>\n",
       "      <td>NaN</td>\n",
       "      <td>NaN</td>\n",
       "      <td>NaN</td>\n",
       "      <td>NaN</td>\n",
       "      <td>NaN</td>\n",
       "      <td>NaN</td>\n",
       "      <td>NaN</td>\n",
       "      <td>NaN</td>\n",
       "      <td>NaN</td>\n",
       "    </tr>\n",
       "    <tr>\n",
       "      <th>...</th>\n",
       "      <td>...</td>\n",
       "      <td>...</td>\n",
       "      <td>...</td>\n",
       "      <td>...</td>\n",
       "      <td>...</td>\n",
       "      <td>...</td>\n",
       "      <td>...</td>\n",
       "      <td>...</td>\n",
       "      <td>...</td>\n",
       "      <td>...</td>\n",
       "      <td>...</td>\n",
       "      <td>...</td>\n",
       "      <td>...</td>\n",
       "      <td>...</td>\n",
       "      <td>...</td>\n",
       "      <td>...</td>\n",
       "      <td>...</td>\n",
       "      <td>...</td>\n",
       "      <td>...</td>\n",
       "      <td>...</td>\n",
       "      <td>...</td>\n",
       "    </tr>\n",
       "    <tr>\n",
       "      <th>3319</th>\n",
       "      <td>14. Cherick (JeanMarie), à BorgoSan Sepoléro (...</td>\n",
       "      <td>Paris1867_Italy_116.jpg</td>\n",
       "      <td>CLASSE 92 — SPÉCIMENS DE COs-\\nTUMES POPULAIRE...</td>\n",
       "      <td>BorgoSan</td>\n",
       "      <td>The Italian city mentioned in the given string...</td>\n",
       "      <td>051002</td>\n",
       "      <td>Arezzo</td>\n",
       "      <td>NaN</td>\n",
       "      <td>NaN</td>\n",
       "      <td>NaN</td>\n",
       "      <td>...</td>\n",
       "      <td>NaN</td>\n",
       "      <td>NaN</td>\n",
       "      <td>NaN</td>\n",
       "      <td>NaN</td>\n",
       "      <td>NaN</td>\n",
       "      <td>NaN</td>\n",
       "      <td>NaN</td>\n",
       "      <td>NaN</td>\n",
       "      <td>NaN</td>\n",
       "      <td>051002</td>\n",
       "    </tr>\n",
       "    <tr>\n",
       "      <th>3320</th>\n",
       "      <td>4. Municipalité de Cilenza(Foggia). — Costume ...</td>\n",
       "      <td>Paris1867_Italy_116.jpg</td>\n",
       "      <td>CLASSE 92 — SPÉCIMENS DE COs-\\nTUMES POPULAIRE...</td>\n",
       "      <td>Valforte</td>\n",
       "      <td>The city mentioned in the given string is Cile...</td>\n",
       "      <td>NaN</td>\n",
       "      <td>Cilenza</td>\n",
       "      <td>Cilento</td>\n",
       "      <td>Cilento</td>\n",
       "      <td>NaN</td>\n",
       "      <td>...</td>\n",
       "      <td>NaN</td>\n",
       "      <td>NaN</td>\n",
       "      <td>NaN</td>\n",
       "      <td>NaN</td>\n",
       "      <td>NaN</td>\n",
       "      <td>NaN</td>\n",
       "      <td>NaN</td>\n",
       "      <td>NaN</td>\n",
       "      <td>NaN</td>\n",
       "      <td>NaN</td>\n",
       "    </tr>\n",
       "    <tr>\n",
       "      <th>3321</th>\n",
       "      <td>3. Brameia (Vincent, à Nicotera(Catanzara. — P...</td>\n",
       "      <td>Paris1867_Italy_116.jpg</td>\n",
       "      <td>CLASSE 92 — SPÉCIMENS DE COs-\\nTUMES POPULAIRE...</td>\n",
       "      <td>Nicotera</td>\n",
       "      <td>The Italian city mentioned in the given string...</td>\n",
       "      <td>102025</td>\n",
       "      <td>Nicotera</td>\n",
       "      <td>NaN</td>\n",
       "      <td>NaN</td>\n",
       "      <td>NaN</td>\n",
       "      <td>...</td>\n",
       "      <td>NaN</td>\n",
       "      <td>NaN</td>\n",
       "      <td>NaN</td>\n",
       "      <td>NaN</td>\n",
       "      <td>NaN</td>\n",
       "      <td>NaN</td>\n",
       "      <td>NaN</td>\n",
       "      <td>NaN</td>\n",
       "      <td>NaN</td>\n",
       "      <td>102025</td>\n",
       "    </tr>\n",
       "    <tr>\n",
       "      <th>3322</th>\n",
       "      <td>9. Russo (Dominique), à Nicotera(Catanzaro). —...</td>\n",
       "      <td>Paris1867_Italy_116.jpg</td>\n",
       "      <td>CLASSE 92 — SPÉCIMENS DE COs-\\nTUMES POPULAIRE...</td>\n",
       "      <td>Nicotera</td>\n",
       "      <td>The Italian city mentioned in the given string...</td>\n",
       "      <td>102025</td>\n",
       "      <td>Nicotera</td>\n",
       "      <td>NaN</td>\n",
       "      <td>NaN</td>\n",
       "      <td>NaN</td>\n",
       "      <td>...</td>\n",
       "      <td>NaN</td>\n",
       "      <td>NaN</td>\n",
       "      <td>NaN</td>\n",
       "      <td>NaN</td>\n",
       "      <td>NaN</td>\n",
       "      <td>NaN</td>\n",
       "      <td>NaN</td>\n",
       "      <td>NaN</td>\n",
       "      <td>NaN</td>\n",
       "      <td>102025</td>\n",
       "    </tr>\n",
       "    <tr>\n",
       "      <th>3323</th>\n",
       "      <td>1. Association philanthropiquenupolitaine, à N...</td>\n",
       "      <td>Paris1867_Italy_116.jpg</td>\n",
       "      <td>CLASSE 93. — SPÉCIMENS L'HAWITA-\\nTIONS CARACT...</td>\n",
       "      <td>Naples</td>\n",
       "      <td>The city mentioned in the string is Naples, wh...</td>\n",
       "      <td>063049</td>\n",
       "      <td>Napoli</td>\n",
       "      <td>NaN</td>\n",
       "      <td>NaN</td>\n",
       "      <td>NaN</td>\n",
       "      <td>...</td>\n",
       "      <td>NaN</td>\n",
       "      <td>NaN</td>\n",
       "      <td>NaN</td>\n",
       "      <td>NaN</td>\n",
       "      <td>NaN</td>\n",
       "      <td>NaN</td>\n",
       "      <td>NaN</td>\n",
       "      <td>NaN</td>\n",
       "      <td>NaN</td>\n",
       "      <td>063049</td>\n",
       "    </tr>\n",
       "  </tbody>\n",
       "</table>\n",
       "<p>3324 rows × 22 columns</p>\n",
       "</div>"
      ],
      "text/plain": [
       "                                                   text  \\\n",
       "0     1. Dalmasso (Henry), imprimerieroyale, à Turin...   \n",
       "1     2. Negro (AugusteFréderic), à Turin. — Ouvrage...   \n",
       "2     3. Pomba (Louis), à Turin.—Publications de la ...   \n",
       "3     4. Gatti (Joseph), à Voghera. —Spécimens de ty...   \n",
       "4     5. Bernardoni (CièreJoseph , àMilan. — Evangel...   \n",
       "...                                                 ...   \n",
       "3319  14. Cherick (JeanMarie), à BorgoSan Sepoléro (...   \n",
       "3320  4. Municipalité de Cilenza(Foggia). — Costume ...   \n",
       "3321  3. Brameia (Vincent, à Nicotera(Catanzara. — P...   \n",
       "3322  9. Russo (Dominique), à Nicotera(Catanzaro). —...   \n",
       "3323  1. Association philanthropiquenupolitaine, à N...   \n",
       "\n",
       "                       source  \\\n",
       "0       Paris1867_Italy_0.jpg   \n",
       "1       Paris1867_Italy_0.jpg   \n",
       "2       Paris1867_Italy_0.jpg   \n",
       "3       Paris1867_Italy_0.jpg   \n",
       "4       Paris1867_Italy_0.jpg   \n",
       "...                       ...   \n",
       "3319  Paris1867_Italy_116.jpg   \n",
       "3320  Paris1867_Italy_116.jpg   \n",
       "3321  Paris1867_Italy_116.jpg   \n",
       "3322  Paris1867_Italy_116.jpg   \n",
       "3323  Paris1867_Italy_116.jpg   \n",
       "\n",
       "                                                  class  location  \\\n",
       "0     CLASSE 6..— PRUDLITS D'IMPRIMERIE\\nET DE LIBRA...     Turin   \n",
       "1     CLASSE 6..— PRUDLITS D'IMPRIMERIE\\nET DE LIBRA...     Turin   \n",
       "2     CLASSE 6..— PRUDLITS D'IMPRIMERIE\\nET DE LIBRA...     Turin   \n",
       "3     CLASSE 6..— PRUDLITS D'IMPRIMERIE\\nET DE LIBRA...   Voghera   \n",
       "4     CLASSE 6..— PRUDLITS D'IMPRIMERIE\\nET DE LIBRA...     Milan   \n",
       "...                                                 ...       ...   \n",
       "3319  CLASSE 92 — SPÉCIMENS DE COs-\\nTUMES POPULAIRE...  BorgoSan   \n",
       "3320  CLASSE 92 — SPÉCIMENS DE COs-\\nTUMES POPULAIRE...  Valforte   \n",
       "3321  CLASSE 92 — SPÉCIMENS DE COs-\\nTUMES POPULAIRE...  Nicotera   \n",
       "3322  CLASSE 92 — SPÉCIMENS DE COs-\\nTUMES POPULAIRE...  Nicotera   \n",
       "3323  CLASSE 93. — SPÉCIMENS L'HAWITA-\\nTIONS CARACT...    Naples   \n",
       "\n",
       "                                               respones  LAU_ID  \\\n",
       "0                                                 Turin     NaN   \n",
       "1     The Italian city mentioned in the given string...  001272   \n",
       "2     Turin (or Torino in Italian) is the city menti...  001272   \n",
       "3     The Italian city mentioned in the given string...  018182   \n",
       "4                                                 Milan     NaN   \n",
       "...                                                 ...     ...   \n",
       "3319  The Italian city mentioned in the given string...  051002   \n",
       "3320  The city mentioned in the given string is Cile...     NaN   \n",
       "3321  The Italian city mentioned in the given string...  102025   \n",
       "3322  The Italian city mentioned in the given string...  102025   \n",
       "3323  The city mentioned in the string is Naples, wh...  063049   \n",
       "\n",
       "     candidate_match_step2_1 candidate_match_step2_2 candidate_match_step2_3  \\\n",
       "0                      Turin                     NaN                     NaN   \n",
       "1                     Torino                     NaN                     NaN   \n",
       "2                     Torino                     NaN                     NaN   \n",
       "3                    Voghera                     NaN                     NaN   \n",
       "4                      Milan                     NaN                     NaN   \n",
       "...                      ...                     ...                     ...   \n",
       "3319                  Arezzo                     NaN                     NaN   \n",
       "3320                 Cilenza                 Cilento                 Cilento   \n",
       "3321                Nicotera                     NaN                     NaN   \n",
       "3322                Nicotera                     NaN                     NaN   \n",
       "3323                  Napoli                     NaN                     NaN   \n",
       "\n",
       "     candidate_match_step2_4  ... candidate_match_step2_7  \\\n",
       "0                        NaN  ...                     NaN   \n",
       "1                        NaN  ...                     NaN   \n",
       "2                        NaN  ...                     NaN   \n",
       "3                        NaN  ...                     NaN   \n",
       "4                        NaN  ...                     NaN   \n",
       "...                      ...  ...                     ...   \n",
       "3319                     NaN  ...                     NaN   \n",
       "3320                     NaN  ...                     NaN   \n",
       "3321                     NaN  ...                     NaN   \n",
       "3322                     NaN  ...                     NaN   \n",
       "3323                     NaN  ...                     NaN   \n",
       "\n",
       "     candidate_match_step2_8 candidate_match_step2_9 candidate_match_step2_10  \\\n",
       "0                        NaN                     NaN                      NaN   \n",
       "1                        NaN                     NaN                      NaN   \n",
       "2                        NaN                     NaN                      NaN   \n",
       "3                        NaN                     NaN                      NaN   \n",
       "4                        NaN                     NaN                      NaN   \n",
       "...                      ...                     ...                      ...   \n",
       "3319                     NaN                     NaN                      NaN   \n",
       "3320                     NaN                     NaN                      NaN   \n",
       "3321                     NaN                     NaN                      NaN   \n",
       "3322                     NaN                     NaN                      NaN   \n",
       "3323                     NaN                     NaN                      NaN   \n",
       "\n",
       "     candidate_match_step2_11 candidate_match_step2_12  \\\n",
       "0                         NaN                      NaN   \n",
       "1                         NaN                      NaN   \n",
       "2                         NaN                      NaN   \n",
       "3                         NaN                      NaN   \n",
       "4                         NaN                      NaN   \n",
       "...                       ...                      ...   \n",
       "3319                      NaN                      NaN   \n",
       "3320                      NaN                      NaN   \n",
       "3321                      NaN                      NaN   \n",
       "3322                      NaN                      NaN   \n",
       "3323                      NaN                      NaN   \n",
       "\n",
       "     candidate_match_step2_13 candidate_match_step2_14  \\\n",
       "0                         NaN                      NaN   \n",
       "1                         NaN                      NaN   \n",
       "2                         NaN                      NaN   \n",
       "3                         NaN                      NaN   \n",
       "4                         NaN                      NaN   \n",
       "...                       ...                      ...   \n",
       "3319                      NaN                      NaN   \n",
       "3320                      NaN                      NaN   \n",
       "3321                      NaN                      NaN   \n",
       "3322                      NaN                      NaN   \n",
       "3323                      NaN                      NaN   \n",
       "\n",
       "     candidate_match_step2_15 lau_id_step2  \n",
       "0                         NaN          NaN  \n",
       "1                         NaN       001272  \n",
       "2                         NaN       001272  \n",
       "3                         NaN       018182  \n",
       "4                         NaN          NaN  \n",
       "...                       ...          ...  \n",
       "3319                      NaN       051002  \n",
       "3320                      NaN          NaN  \n",
       "3321                      NaN       102025  \n",
       "3322                      NaN       102025  \n",
       "3323                      NaN       063049  \n",
       "\n",
       "[3324 rows x 22 columns]"
      ]
     },
     "execution_count": 295,
     "metadata": {},
     "output_type": "execute_result"
    }
   ],
   "source": [
    "step3"
   ]
  },
  {
   "cell_type": "code",
   "execution_count": null,
   "id": "7d2a6516-8ea3-46a0-9b52-071fbcbcbfe5",
   "metadata": {},
   "outputs": [],
   "source": []
  },
  {
   "cell_type": "code",
   "execution_count": null,
   "id": "2ae1e413-dfee-47ba-aec8-76b1b1189e0f",
   "metadata": {},
   "outputs": [],
   "source": []
  }
 ],
 "metadata": {
  "kernelspec": {
   "display_name": "Python 3",
   "language": "python",
   "name": "python3"
  },
  "language_info": {
   "codemirror_mode": {
    "name": "ipython",
    "version": 3
   },
   "file_extension": ".py",
   "mimetype": "text/x-python",
   "name": "python",
   "nbconvert_exporter": "python",
   "pygments_lexer": "ipython3",
   "version": "3.9.18"
  }
 },
 "nbformat": 4,
 "nbformat_minor": 5
}
